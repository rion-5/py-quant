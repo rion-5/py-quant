{
 "cells": [
  {
   "cell_type": "markdown",
   "metadata": {},
   "source": [
    "퀀트 투자, 모멘텀 투자, 가치 투자에 대한 전략을 세울 때 주요한 정보는 각 전략의 특성에 맞는 데이터를 기준으로 선택됩니다. Tesla 주식 (`yf_tsla`)을 예시로 어떤 정보를 활용할 수 있을지 각 투자 전략에 대해 구체적으로 살펴보겠습니다.\n",
    "\n",
    "### 1. **퀀트 투자**:\n",
    "퀀트 투자는 수학적 모델과 데이터를 활용해 투자 결정을 내리는 전략입니다. 주로 **수치적 데이터**와 **자동화된 알고리즘**을 기반으로 합니다. 퀀트 투자에서 중요한 항목들은 다음과 같습니다:\n",
    "\n",
    "- **P/E Ratio (주가수익비율)**: `yf_tsla.info['trailingPE']`  \n",
    "  P/E 비율은 회사의 이익과 비교하여 주가가 과대평가되었는지 과소평가되었는지를 판단하는 데 유용합니다. 높은 P/E는 고평가를 의미할 수 있으며, 낮은 P/E는 저평가를 의미할 수 있습니다.\n",
    "  \n",
    "- **시가총액 (Market Cap)**: `yf_tsla.info['marketCap']`  \n",
    "  퀀트 투자에서는 시가총액이 큰 기업들이 안정적일 수 있지만, 작은 시가총액을 가진 기업들이 빠르게 성장할 가능성도 있기 때문에 고려됩니다.\n",
    "  \n",
    "- **배당수익률 (Dividend Yield)**: `yf_tsla.info['dividendYield']`  \n",
    "  배당금을 지급하는 기업은 안정적인 현금 흐름을 가진 기업으로 평가될 수 있습니다. 배당수익률이 높다면 안정적인 수익을 기대할 수 있습니다.\n",
    "\n",
    "- **자산대비 부채비율 (Debt-to-Equity Ratio)**: `yf_tsla.info['debtToEquity']`  \n",
    "  부채를 관리하는 기업의 능력은 중요합니다. 높은 부채비율은 위험 신호로 해석될 수 있습니다.\n",
    "\n",
    "### 2. **모멘텀 투자**:\n",
    "모멘텀 투자에서는 주가의 최근 상승 추세를 기반으로 투자 결정을 내립니다. 이 전략에서 중요한 항목들은:\n",
    "\n",
    "- **주가 변화율 (Price Momentum)**: `yf_tsla.history(period=\"1mo\")['Close']`  \n",
    "  주가의 단기 변동성을 분석하고 최근 상승세 또는 하락세를 확인합니다. 주가가 최근에 상승하고 있다면 모멘텀 투자자들은 그 추세가 계속될 것이라고 믿고 투자할 수 있습니다.\n",
    "\n",
    "- **거래량 (Volume)**: `yf_tsla.history(period=\"1mo\")['Volume']`  \n",
    "  거래량은 주가 모멘텀을 확인하는 데 중요한 지표입니다. 거래량이 갑자기 증가하면 주식에 대한 관심이 커졌다는 신호로 해석할 수 있습니다.\n",
    "\n",
    "- **상대강도지수 (RSI, Relative Strength Index)**: `yf_tsla.history(period=\"1mo\")`로 계산하여 모멘텀 지표로 사용  \n",
    "  RSI는 0에서 100 사이의 값으로, 주식이 과매도 또는 과매수 상태에 있는지를 판단하는 데 유용합니다. 70 이상은 과매수, 30 이하는 과매도로 간주됩니다.\n",
    "\n",
    "- **60일 평균 (Moving Averages)**: `yf_tsla.history(period=\"1mo\")['Close'].rolling(window=60).mean()`  \n",
    "  주식의 60일 이동 평균선은 최근 주가 추세를 반영하며, 주가가 이 선을 상회하는 경우 상승 모멘텀이 강하다고 해석할 수 있습니다.\n",
    "\n",
    "### 3. **가치 투자**:\n",
    "가치 투자는 주식의 내재 가치를 분석하여 저평가된 주식을 사는 전략입니다. 이 전략에서 중요한 항목들은:\n",
    "\n",
    "- **P/E 비율 (Price-to-Earnings Ratio)**: `yf_tsla.info['trailingPE']`  \n",
    "  저평가된 주식을 찾을 때 P/E 비율이 낮은 종목을 선택합니다. P/E 비율이 낮다는 것은 주가가 상대적으로 낮다는 의미일 수 있습니다.\n",
    "\n",
    "- **P/B 비율 (Price-to-Book Ratio)**: `yf_tsla.info['priceToBook']`  \n",
    "  주가와 자산 가치를 비교하는 지표로, P/B 비율이 1 이하이면 주식이 자산보다 저평가되었다고 볼 수 있습니다.\n",
    "\n",
    "- **자기자본이익률 (ROE, Return on Equity)**: `yf_tsla.info['returnOnEquity']`  \n",
    "  ROE는 기업이 자본을 얼마나 효율적으로 사용하고 있는지를 나타냅니다. 높은 ROE는 기업이 투자 자본을 잘 활용하고 있다는 의미로, 가치를 평가하는 중요한 지표입니다.\n",
    "\n",
    "- **EPS (Earnings Per Share, 주당순이익)**: `yf_tsla.info['epsTrailingTwelveMonths']`  \n",
    "  EPS는 기업이 얼마나 이익을 내고 있는지를 나타내는 중요한 지표입니다. 성장 가능성도 파악할 수 있습니다.\n",
    "\n",
    "- **자산대비 부채비율 (Debt-to-Equity Ratio)**: `yf_tsla.info['debtToEquity']`  \n",
    "  부채비율이 너무 높은 기업은 가치 투자에서 피하는 경우가 많습니다. 지나치게 높은 부채비율은 위험 신호일 수 있습니다.\n",
    "\n",
    "### 결론:\n",
    "- **퀀트 투자**에서는 데이터 기반의 지표들(P/E, P/B, 부채비율 등)과 수학적 모델을 활용하여 주식 선택을 합니다.\n",
    "- **모멘텀 투자**에서는 주가의 상승 추세, 거래량, RSI와 같은 모멘텀 지표를 중심으로 투자 결정을 내립니다.\n",
    "- **가치 투자**에서는 P/E, P/B, ROE 등 내재 가치를 분석하고 저평가된 주식을 찾습니다.\n",
    "\n",
    "위의 지표들은 모두 `yf_tsla` 객체에서 얻을 수 있는 정보들로, 각 투자 전략에 맞는 데이터를 잘 활용할 수 있습니다."
   ]
  },
  {
   "cell_type": "code",
   "execution_count": 23,
   "metadata": {},
   "outputs": [],
   "source": [
    "import yfinance as yf\n",
    "import pandas as pd\n",
    "pd.set_option('display.float_format', '{:.4f}'.format)\n",
    "# pd.set_option('display.max_columns', None)  # 모든 컬럼을 한 줄에 출력\n",
    "pd.set_option('display.width', 800)  # 출력 너비 조정"
   ]
  },
  {
   "cell_type": "code",
   "execution_count": 24,
   "metadata": {},
   "outputs": [
    {
     "name": "stdout",
     "output_type": "stream",
     "text": [
      "{'address1': '1 Tesla Road', 'city': 'Austin', 'state': 'TX', 'zip': '78725', 'country': 'United States', 'phone': '512 516 8177', 'website': 'https://www.tesla.com', 'industry': 'Auto Manufacturers', 'industryKey': 'auto-manufacturers', 'industryDisp': 'Auto Manufacturers', 'sector': 'Consumer Cyclical', 'sectorKey': 'consumer-cyclical', 'sectorDisp': 'Consumer Cyclical', 'longBusinessSummary': 'Tesla, Inc. designs, develops, manufactures, leases, and sells electric vehicles, and energy generation and storage systems in the United States, China, and internationally. The company operates in two segments, Automotive, and Energy Generation and Storage. The Automotive segment offers electric vehicles, as well as sells automotive regulatory credits; and non-warranty after-sales vehicle, used vehicles, body shop and parts, supercharging, retail merchandise, and vehicle insurance services. This segment also provides sedans and sport utility vehicles through direct and used vehicle sales, a network of Tesla Superchargers, and in-app upgrades; purchase financing and leasing services; services for electric vehicles through its company-owned service locations and Tesla mobile service technicians; and vehicle limited warranties and extended service plans. The Energy Generation and Storage segment engages in the design, manufacture, installation, sale, and leasing of solar energy generation and energy storage products, and related services to residential, commercial, and industrial customers and utilities through its website, stores, and galleries, as well as through a network of channel partners; and provision of service and repairs to its energy product customers, including under warranty, as well as various financing options to its solar customers. The company was formerly known as Tesla Motors, Inc. and changed its name to Tesla, Inc. in February 2017. Tesla, Inc. was incorporated in 2003 and is headquartered in Austin, Texas.', 'fullTimeEmployees': 140473, 'companyOfficers': [{'maxAge': 1, 'name': 'Mr. Elon R. Musk', 'age': 52, 'title': 'Co-Founder, Technoking of Tesla, CEO & Director', 'yearBorn': 1972, 'fiscalYear': 2023, 'exercisedValue': 0, 'unexercisedValue': 0}, {'maxAge': 1, 'name': 'Mr. Vaibhav  Taneja', 'age': 46, 'title': 'Chief Financial Officer', 'yearBorn': 1978, 'fiscalYear': 2023, 'totalPay': 278000, 'exercisedValue': 8517957, 'unexercisedValue': 202075632}, {'maxAge': 1, 'name': 'Mr. Xiaotong  Zhu', 'age': 44, 'title': 'Senior Vice President of Automotive', 'yearBorn': 1980, 'fiscalYear': 2023, 'totalPay': 926877, 'exercisedValue': 0, 'unexercisedValue': 344144320}, {'maxAge': 1, 'name': 'Travis  Axelrod', 'title': 'Head of Investor Relations', 'fiscalYear': 2023, 'exercisedValue': 0, 'unexercisedValue': 0}, {'maxAge': 1, 'name': 'Brian  Scelfo', 'title': 'Senior Director of Corporate Development', 'fiscalYear': 2023, 'exercisedValue': 0, 'unexercisedValue': 0}, {'maxAge': 1, 'name': 'Mr. Franz  von Holzhausen', 'title': 'Chief Designer', 'fiscalYear': 2023, 'exercisedValue': 0, 'unexercisedValue': 0}, {'maxAge': 1, 'name': 'Mr. John  Walker', 'age': 61, 'title': 'Vice President of Sales - North America', 'yearBorn': 1963, 'fiscalYear': 2023, 'totalPay': 121550, 'exercisedValue': 0, 'unexercisedValue': 0}, {'maxAge': 1, 'name': 'Mr. Peter  Bannon', 'title': 'Chip Architect', 'fiscalYear': 2023, 'exercisedValue': 0, 'unexercisedValue': 0}, {'maxAge': 1, 'name': 'Mr. Turner  Caldwell', 'title': 'Engineering Manager', 'fiscalYear': 2023, 'exercisedValue': 0, 'unexercisedValue': 0}, {'maxAge': 1, 'name': 'Mr. Rodney D. Westmoreland Jr.', 'title': 'Director of Construction Management', 'fiscalYear': 2023, 'exercisedValue': 0, 'unexercisedValue': 0}], 'auditRisk': 5, 'boardRisk': 9, 'compensationRisk': 10, 'shareHolderRightsRisk': 9, 'overallRisk': 10, 'governanceEpochDate': 1735689600, 'compensationAsOfEpochDate': 1703980800, 'maxAge': 86400, 'priceHint': 2, 'previousClose': 400.28, 'open': 401.515, 'dayLow': 401.425, 'dayHigh': 419.98, 'regularMarketPreviousClose': 400.28, 'regularMarketOpen': 401.515, 'regularMarketDayLow': 401.425, 'regularMarketDayHigh': 419.98, 'beta': 2.295, 'trailingPE': 196.40778, 'forwardPE': 103.642075, 'volume': 83089760, 'regularMarketVolume': 83089760, 'averageVolume': 90929208, 'averageVolume10days': 69189120, 'averageDailyVolume10Day': 69189120, 'bid': 404.3, 'ask': 405.61, 'bidSize': 100, 'askSize': 200, 'marketCap': 1301403926528, 'fiftyTwoWeekLow': 138.8, 'fiftyTwoWeekHigh': 488.54, 'priceToSalesTrailing12Months': 13.39582, 'fiftyDayAverage': 396.5106, 'twoHundredDayAverage': 260.8969, 'currency': 'USD', 'enterpriseValue': 1228948242432, 'profitMargins': 0.13075, 'floatShares': 2793105010, 'sharesOutstanding': 3216519936, 'sharesShort': 63254084, 'sharesShortPriorMonth': 80765425, 'sharesShortPreviousMonthDate': 1734048000, 'dateShortInterest': 1736899200, 'sharesPercentSharesOut': 0.0197, 'heldPercentInsiders': 0.1291, 'heldPercentInstitutions': 0.47744998, 'shortRatio': 0.7, 'shortPercentOfFloat': 0.0226, 'impliedSharesOutstanding': 3210060032, 'bookValue': 21.806, 'priceToBook': 18.554527, 'lastFiscalYearEnd': 1703980800, 'nextFiscalYearEnd': 1735603200, 'mostRecentQuarter': 1727654400, 'earningsQuarterlyGrowth': 0.169, 'netIncomeToCommon': 12743000064, 'trailingEps': 2.06, 'forwardEps': 3.24, 'lastSplitFactor': '3:1', 'lastSplitDate': 1661385600, 'enterpriseToRevenue': 12.65, 'enterpriseToEbitda': 92.793, '52WeekChange': 1.2107589, 'SandP52WeekChange': 0.22828305, 'exchange': 'NMS', 'quoteType': 'EQUITY', 'symbol': 'TSLA', 'underlyingSymbol': 'TSLA', 'shortName': 'Tesla, Inc.', 'longName': 'Tesla, Inc.', 'firstTradeDateEpochUtc': 1277818200, 'timeZoneFullName': 'America/New_York', 'timeZoneShortName': 'EST', 'uuid': 'ec367bc4-f92c-397c-ac81-bf7b43cffaf7', 'messageBoardId': 'finmb_27444752', 'gmtOffSetMilliseconds': -18000000, 'currentPrice': 404.6, 'targetHighPrice': 550.0, 'targetLowPrice': 135.0, 'targetMeanPrice': 324.98926, 'targetMedianPrice': 300.0, 'recommendationMean': 2.76087, 'recommendationKey': 'hold', 'numberOfAnalystOpinions': 41, 'totalCash': 33648001024, 'totalCashPerShare': 10.482, 'ebitda': 13244000256, 'totalDebt': 12782999552, 'quickRatio': 1.214, 'currentRatio': 1.844, 'totalRevenue': 97150001152, 'debtToEquity': 18.078, 'revenuePerShare': 30.457, 'returnOnAssets': 0.04759, 'returnOnEquity': 0.20389, 'grossProfits': 17709000704, 'freeCashflow': 676625024, 'operatingCashflow': 14478999552, 'earningsGrowth': 0.17, 'revenueGrowth': 0.078, 'grossMargins': 0.18229, 'ebitdaMargins': 0.13633001, 'operatingMargins': 0.107889995, 'financialCurrency': 'USD', 'trailingPegRatio': 4.9054}\n"
     ]
    }
   ],
   "source": [
    "yf_tsla = yf.Ticker('TSLA')\n",
    "# 주식 기본 정보:\n",
    "print(yf_tsla.info)"
   ]
  },
  {
   "cell_type": "code",
   "execution_count": 25,
   "metadata": {},
   "outputs": [
    {
     "data": {
      "text/plain": [
       "196.40778"
      ]
     },
     "execution_count": 25,
     "metadata": {},
     "output_type": "execute_result"
    }
   ],
   "source": [
    "# P/E Ratio (주가수익비율): \n",
    "yf_tsla.info['trailingPE']"
   ]
  },
  {
   "cell_type": "code",
   "execution_count": 26,
   "metadata": {},
   "outputs": [
    {
     "data": {
      "text/plain": [
       "1301403926528"
      ]
     },
     "execution_count": 26,
     "metadata": {},
     "output_type": "execute_result"
    }
   ],
   "source": [
    "# 시가총액 (Market Cap): \n",
    "yf_tsla.info['marketCap']"
   ]
  },
  {
   "cell_type": "code",
   "execution_count": 27,
   "metadata": {},
   "outputs": [
    {
     "ename": "KeyError",
     "evalue": "'dividendYield'",
     "output_type": "error",
     "traceback": [
      "\u001b[0;31m---------------------------------------------------------------------------\u001b[0m",
      "\u001b[0;31mKeyError\u001b[0m                                  Traceback (most recent call last)",
      "Cell \u001b[0;32mIn[27], line 2\u001b[0m\n\u001b[1;32m      1\u001b[0m \u001b[38;5;66;03m# 배당수익률 (Dividend Yield): \u001b[39;00m\n\u001b[0;32m----> 2\u001b[0m yf_tsla\u001b[38;5;241m.\u001b[39minfo[\u001b[38;5;124m'\u001b[39m\u001b[38;5;124mdividendYield\u001b[39m\u001b[38;5;124m'\u001b[39m]\n",
      "\u001b[0;31mKeyError\u001b[0m: 'dividendYield'"
     ]
    }
   ],
   "source": [
    "# 배당수익률 (Dividend Yield): \n",
    "yf_tsla.info['dividendYield']"
   ]
  },
  {
   "cell_type": "code",
   "execution_count": 12,
   "metadata": {},
   "outputs": [
    {
     "data": {
      "text/plain": [
       "18.078"
      ]
     },
     "execution_count": 12,
     "metadata": {},
     "output_type": "execute_result"
    }
   ],
   "source": [
    "# 자산대비 부채비율 (Debt-to-Equity Ratio): \n",
    "yf_tsla.info['debtToEquity']"
   ]
  },
  {
   "cell_type": "code",
   "execution_count": 13,
   "metadata": {},
   "outputs": [
    {
     "data": {
      "text/plain": [
       "Date\n",
       "2025-01-02 00:00:00-05:00   379.2800\n",
       "2025-01-03 00:00:00-05:00   410.4400\n",
       "2025-01-06 00:00:00-05:00   411.0500\n",
       "2025-01-07 00:00:00-05:00   394.3600\n",
       "2025-01-08 00:00:00-05:00   394.9400\n",
       "2025-01-10 00:00:00-05:00   394.7400\n",
       "2025-01-13 00:00:00-05:00   403.3100\n",
       "2025-01-14 00:00:00-05:00   396.3600\n",
       "2025-01-15 00:00:00-05:00   428.2200\n",
       "2025-01-16 00:00:00-05:00   413.8200\n",
       "2025-01-17 00:00:00-05:00   426.5000\n",
       "2025-01-21 00:00:00-05:00   424.0700\n",
       "2025-01-22 00:00:00-05:00   415.1100\n",
       "2025-01-23 00:00:00-05:00   412.3800\n",
       "2025-01-24 00:00:00-05:00   406.5800\n",
       "2025-01-27 00:00:00-05:00   397.1500\n",
       "2025-01-28 00:00:00-05:00   398.0900\n",
       "2025-01-29 00:00:00-05:00   389.1000\n",
       "2025-01-30 00:00:00-05:00   400.2800\n",
       "2025-01-31 00:00:00-05:00   404.6000\n",
       "Name: Close, dtype: float64"
      ]
     },
     "execution_count": 13,
     "metadata": {},
     "output_type": "execute_result"
    }
   ],
   "source": [
    "# 주가 변화율 (Price Momentum): \n",
    "yf_tsla.history(period=\"1mo\")['Close']"
   ]
  },
  {
   "cell_type": "code",
   "execution_count": 14,
   "metadata": {},
   "outputs": [
    {
     "data": {
      "text/plain": [
       "Date\n",
       "2025-01-02 00:00:00-05:00    109710700\n",
       "2025-01-03 00:00:00-05:00     95423300\n",
       "2025-01-06 00:00:00-05:00     85516500\n",
       "2025-01-07 00:00:00-05:00     75699500\n",
       "2025-01-08 00:00:00-05:00     73038800\n",
       "2025-01-10 00:00:00-05:00     62287300\n",
       "2025-01-13 00:00:00-05:00     67580500\n",
       "2025-01-14 00:00:00-05:00     84565000\n",
       "2025-01-15 00:00:00-05:00     81375500\n",
       "2025-01-16 00:00:00-05:00     68335200\n",
       "2025-01-17 00:00:00-05:00     94991400\n",
       "2025-01-21 00:00:00-05:00     87320900\n",
       "2025-01-22 00:00:00-05:00     60963300\n",
       "2025-01-23 00:00:00-05:00     50690600\n",
       "2025-01-24 00:00:00-05:00     56427100\n",
       "2025-01-27 00:00:00-05:00     58125500\n",
       "2025-01-28 00:00:00-05:00     48910700\n",
       "2025-01-29 00:00:00-05:00     68033600\n",
       "2025-01-30 00:00:00-05:00     98092900\n",
       "2025-01-31 00:00:00-05:00     83283600\n",
       "Name: Volume, dtype: int64"
      ]
     },
     "execution_count": 14,
     "metadata": {},
     "output_type": "execute_result"
    }
   ],
   "source": [
    "# 거래량 (Volume): \n",
    "yf_tsla.history(period=\"1mo\")['Volume']"
   ]
  },
  {
   "cell_type": "markdown",
   "metadata": {},
   "source": [
    "### **상대강도지수 RSI (Relative Strength Index) 계산 방법**  \n",
    "RSI는 **상승폭 대비 하락폭을 이용해 모멘텀을 측정하는 지표**야. 보통 **14일 기간**을 기준으로 계산해.\n",
    "\n",
    "#### **1. 기본 개념**  \n",
    "\\[\n",
    "RS = \\frac{평균 상승폭}{평균 하락폭}\n",
    "\\]\n",
    "\\[\n",
    "RSI = 100 - \\frac{100}{1 + RS}\n",
    "\\]\n",
    "\n",
    "\n",
    "#### **2. 활용 방법**\n",
    "- **RSI > 70** → 과매수 구간 (가격이 너무 올라 조정 가능성 있음)  \n",
    "- **RSI < 30** → 과매도 구간 (가격이 너무 내려 반등 가능성 있음)  \n",
    "- **RSI 50 부근** → 중립 (추세가 명확하지 않음)  "
   ]
  },
  {
   "cell_type": "code",
   "execution_count": 33,
   "metadata": {},
   "outputs": [
    {
     "name": "stdout",
     "output_type": "stream",
     "text": [
      "Date\n",
      "2025-01-27 00:00:00-05:00   44.5484\n",
      "2025-01-28 00:00:00-05:00   44.6981\n",
      "2025-01-29 00:00:00-05:00   47.7035\n",
      "2025-01-30 00:00:00-05:00   52.1339\n",
      "2025-01-31 00:00:00-05:00   53.8146\n",
      "Name: Close, dtype: float64\n"
     ]
    }
   ],
   "source": [
    "tsla_data = yf_tsla.history(period=\"1mo\")\n",
    "\n",
    "# 종가 데이터 가져오기\n",
    "close_prices = tsla_data['Close']\n",
    "\n",
    "# 가격 변화량 (전일 대비 변화)\n",
    "delta = close_prices.diff()\n",
    "\n",
    "# 상승폭과 하락폭 분리\n",
    "gain = delta.where(delta > 0, 0)  # 양수만 남기고 나머지는 0\n",
    "loss = -delta.where(delta < 0, 0)  # 음수만 남기고 나머지는 0\n",
    "\n",
    "# 14일 평균 계산 (보통 14일 사용)\n",
    "window = 14\n",
    "avg_gain = gain.rolling(window=window, min_periods=1).mean()\n",
    "avg_loss = loss.rolling(window=window, min_periods=1).mean()\n",
    "\n",
    "# RSI 계산\n",
    "RS = avg_gain / avg_loss\n",
    "RSI = 100 - (100 / (1 + RS))\n",
    "\n",
    "print(RSI.tail())  # 최신 RSI 값 확인"
   ]
  },
  {
   "cell_type": "code",
   "execution_count": 35,
   "metadata": {},
   "outputs": [
    {
     "name": "stdout",
     "output_type": "stream",
     "text": [
      "Date\n",
      "2025-01-27 00:00:00-05:00   372.9135\n",
      "2025-01-28 00:00:00-05:00   375.2230\n",
      "2025-01-29 00:00:00-05:00   377.4155\n",
      "2025-01-30 00:00:00-05:00   379.9227\n",
      "2025-01-31 00:00:00-05:00   382.5163\n",
      "Name: Close, dtype: float64\n"
     ]
    }
   ],
   "source": [
    "# 60일 평균 (Moving Averages): \n",
    "import yfinance as yf\n",
    "\n",
    "# 테슬라 데이터 가져오기 (6개월 치 데이터 다운로드)\n",
    "yf_tsla = yf.Ticker(\"TSLA\")\n",
    "tsla_data = yf_tsla.history(period=\"6mo\")  # 최소 60일 이상의 데이터 필요\n",
    "\n",
    "# 종가 가져오기\n",
    "close_prices = tsla_data['Close']\n",
    "\n",
    "# 60일 이동평균 계산\n",
    "ma_60 = close_prices.rolling(window=60).mean()\n",
    "\n",
    "print(ma_60.tail())  # 최신 60일 이동 평균 값 확인\n"
   ]
  },
  {
   "cell_type": "markdown",
   "metadata": {},
   "source": [
    "\n",
    "# 가치투자"
   ]
  },
  {
   "cell_type": "code",
   "execution_count": 36,
   "metadata": {},
   "outputs": [
    {
     "data": {
      "text/plain": [
       "196.40778"
      ]
     },
     "execution_count": 36,
     "metadata": {},
     "output_type": "execute_result"
    }
   ],
   "source": [
    "#P/E 비율 (Price-to-Earnings Ratio): \n",
    "#저평가된 주식을 찾을 때 P/E 비율이 낮은 종목을 선택합니다. P/E 비율이 낮다는 것은 주가가 상대적으로 낮다는 의미일 수 있습니다.\n",
    "yf_tsla.info['trailingPE']"
   ]
  },
  {
   "cell_type": "code",
   "execution_count": 37,
   "metadata": {},
   "outputs": [
    {
     "data": {
      "text/plain": [
       "18.554527"
      ]
     },
     "execution_count": 37,
     "metadata": {},
     "output_type": "execute_result"
    }
   ],
   "source": [
    "#P/B 비율 (Price-to-Book Ratio): \n",
    "#주가와 자산 가치를 비교하는 지표로, P/B 비율이 1 이하이면 주식이 자산보다 저평가되었다고 볼 수 있습니다.\n",
    "\n",
    "yf_tsla.info['priceToBook']"
   ]
  },
  {
   "cell_type": "code",
   "execution_count": 38,
   "metadata": {},
   "outputs": [
    {
     "data": {
      "text/plain": [
       "0.20389"
      ]
     },
     "execution_count": 38,
     "metadata": {},
     "output_type": "execute_result"
    }
   ],
   "source": [
    "# 자기자본이익률 (ROE, Return on Equity): \n",
    "# ROE는 기업이 자본을 얼마나 효율적으로 사용하고 있는지를 나타냅니다. 높은 ROE는 기업이 투자 자본을 잘 활용하고 있다는 의미로, 가치를 평가하는 중요한 지표입니다.\n",
    "yf_tsla.info['returnOnEquity']"
   ]
  },
  {
   "cell_type": "code",
   "execution_count": 41,
   "metadata": {},
   "outputs": [
    {
     "name": "stdout",
     "output_type": "stream",
     "text": [
      "EPS (TTM): 데이터 없음\n"
     ]
    }
   ],
   "source": [
    "# EPS (Earnings Per Share, 주당순이익): \n",
    "eps_ttm = yf_tsla.info.get(\"epsTrailingTwelveMonths\", \"데이터 없음\")\n",
    "print(\"EPS (TTM):\", eps_ttm)"
   ]
  },
  {
   "cell_type": "code",
   "execution_count": 40,
   "metadata": {},
   "outputs": [
    {
     "data": {
      "text/plain": [
       "18.078"
      ]
     },
     "execution_count": 40,
     "metadata": {},
     "output_type": "execute_result"
    }
   ],
   "source": [
    "# 자산대비 부채비율 (Debt-to-Equity Ratio): \n",
    "yf_tsla.info['debtToEquity']"
   ]
  }
 ],
 "metadata": {
  "kernelspec": {
   "display_name": "zena",
   "language": "python",
   "name": "python3"
  },
  "language_info": {
   "codemirror_mode": {
    "name": "ipython",
    "version": 3
   },
   "file_extension": ".py",
   "mimetype": "text/x-python",
   "name": "python",
   "nbconvert_exporter": "python",
   "pygments_lexer": "ipython3",
   "version": "3.12.2"
  }
 },
 "nbformat": 4,
 "nbformat_minor": 2
}
