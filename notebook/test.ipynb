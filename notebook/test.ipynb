{
 "cells": [
  {
   "cell_type": "code",
   "execution_count": 2,
   "metadata": {},
   "outputs": [],
   "source": [
    "import pandas as pd\n",
    "import data.data_fetcher as fetch\n",
    "import strategies.momentum as mo\n"
   ]
  },
  {
   "cell_type": "code",
   "execution_count": 3,
   "metadata": {},
   "outputs": [],
   "source": [
    "start_date = '2025-01-01'\n",
    "end_date = '2025-01-27'\n",
    "min_volume = 8000000\n",
    "min_price = 100\n",
    "max_price = 1000\n",
    "min_sortino = 0.2\n",
    "min_diff_ratio = 0.2\n",
    "top_n = 20"
   ]
  },
  {
   "cell_type": "code",
   "execution_count": 5,
   "metadata": {},
   "outputs": [
    {
     "name": "stdout",
     "output_type": "stream",
     "text": [
      "('AAPL', 'AMD', 'AMZN', 'AVGO', 'GOOG', 'GOOGL', 'META', 'MRVL', 'MSFT', 'MSTR', 'NVDA', 'QQQ', 'TSLA', 'TSM', 'XOM')\n"
     ]
    }
   ],
   "source": [
    "m_symbols = fetch.fetch_momentum_symbols_from_db(start_date, end_date, min_volume, min_price, max_price, top_n)\n",
    "\n",
    "print(m_symbols)"
   ]
  }
 ],
 "metadata": {
  "kernelspec": {
   "display_name": "Python (zena)",
   "language": "python",
   "name": "zena"
  },
  "language_info": {
   "codemirror_mode": {
    "name": "ipython",
    "version": 3
   },
   "file_extension": ".py",
   "mimetype": "text/x-python",
   "name": "python",
   "nbconvert_exporter": "python",
   "pygments_lexer": "ipython3",
   "version": "3.12.8"
  }
 },
 "nbformat": 4,
 "nbformat_minor": 2
}
