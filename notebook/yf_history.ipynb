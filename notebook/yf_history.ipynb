{
 "cells": [
  {
   "cell_type": "code",
   "execution_count": 27,
   "metadata": {},
   "outputs": [],
   "source": [
    "import yfinance as yf\n",
    "import pandas as pd\n",
    "pd.set_option('display.float_format', '{:.4f}'.format)\n",
    "# pd.set_option('display.max_columns', None)  # 모든 컬럼을 한 줄에 출력\n",
    "pd.set_option('display.width', 800)  # 출력 너비 조정"
   ]
  },
  {
   "cell_type": "code",
   "execution_count": 36,
   "metadata": {},
   "outputs": [
    {
     "name": "stdout",
     "output_type": "stream",
     "text": [
      "{'address1': '1 Tesla Road', 'city': 'Austin', 'state': 'TX', 'zip': '78725', 'country': 'United States', 'phone': '512 516 8177', 'website': 'https://www.tesla.com', 'industry': 'Auto Manufacturers', 'industryKey': 'auto-manufacturers', 'industryDisp': 'Auto Manufacturers', 'sector': 'Consumer Cyclical', 'sectorKey': 'consumer-cyclical', 'sectorDisp': 'Consumer Cyclical', 'longBusinessSummary': 'Tesla, Inc. designs, develops, manufactures, leases, and sells electric vehicles, and energy generation and storage systems in the United States, China, and internationally. The company operates in two segments, Automotive, and Energy Generation and Storage. The Automotive segment offers electric vehicles, as well as sells automotive regulatory credits; and non-warranty after-sales vehicle, used vehicles, body shop and parts, supercharging, retail merchandise, and vehicle insurance services. This segment also provides sedans and sport utility vehicles through direct and used vehicle sales, a network of Tesla Superchargers, and in-app upgrades; purchase financing and leasing services; services for electric vehicles through its company-owned service locations and Tesla mobile service technicians; and vehicle limited warranties and extended service plans. The Energy Generation and Storage segment engages in the design, manufacture, installation, sale, and leasing of solar energy generation and energy storage products, and related services to residential, commercial, and industrial customers and utilities through its website, stores, and galleries, as well as through a network of channel partners; and provision of service and repairs to its energy product customers, including under warranty, as well as various financing options to its solar customers. The company was formerly known as Tesla Motors, Inc. and changed its name to Tesla, Inc. in February 2017. Tesla, Inc. was incorporated in 2003 and is headquartered in Austin, Texas.', 'fullTimeEmployees': 140473, 'companyOfficers': [{'maxAge': 1, 'name': 'Mr. Elon R. Musk', 'age': 52, 'title': 'Co-Founder, Technoking of Tesla, CEO & Director', 'yearBorn': 1972, 'fiscalYear': 2023, 'exercisedValue': 0, 'unexercisedValue': 0}, {'maxAge': 1, 'name': 'Mr. Vaibhav  Taneja', 'age': 46, 'title': 'Chief Financial Officer', 'yearBorn': 1978, 'fiscalYear': 2023, 'totalPay': 278000, 'exercisedValue': 8517957, 'unexercisedValue': 202075632}, {'maxAge': 1, 'name': 'Mr. Xiaotong  Zhu', 'age': 44, 'title': 'Senior Vice President of Automotive', 'yearBorn': 1980, 'fiscalYear': 2023, 'totalPay': 926877, 'exercisedValue': 0, 'unexercisedValue': 344144320}, {'maxAge': 1, 'name': 'Travis  Axelrod', 'title': 'Head of Investor Relations', 'fiscalYear': 2023, 'exercisedValue': 0, 'unexercisedValue': 0}, {'maxAge': 1, 'name': 'Brian  Scelfo', 'title': 'Senior Director of Corporate Development', 'fiscalYear': 2023, 'exercisedValue': 0, 'unexercisedValue': 0}, {'maxAge': 1, 'name': 'Mr. Franz  von Holzhausen', 'title': 'Chief Designer', 'fiscalYear': 2023, 'exercisedValue': 0, 'unexercisedValue': 0}, {'maxAge': 1, 'name': 'Mr. John  Walker', 'age': 61, 'title': 'Vice President of Sales - North America', 'yearBorn': 1963, 'fiscalYear': 2023, 'totalPay': 121550, 'exercisedValue': 0, 'unexercisedValue': 0}, {'maxAge': 1, 'name': 'Mr. Peter  Bannon', 'title': 'Chip Architect', 'fiscalYear': 2023, 'exercisedValue': 0, 'unexercisedValue': 0}, {'maxAge': 1, 'name': 'Mr. Turner  Caldwell', 'title': 'Engineering Manager', 'fiscalYear': 2023, 'exercisedValue': 0, 'unexercisedValue': 0}, {'maxAge': 1, 'name': 'Mr. Rodney D. Westmoreland Jr.', 'title': 'Director of Construction Management', 'fiscalYear': 2023, 'exercisedValue': 0, 'unexercisedValue': 0}], 'auditRisk': 5, 'boardRisk': 9, 'compensationRisk': 10, 'shareHolderRightsRisk': 9, 'overallRisk': 10, 'governanceEpochDate': 1735689600, 'compensationAsOfEpochDate': 1703980800, 'maxAge': 86400, 'priceHint': 2, 'previousClose': 400.28, 'open': 401.515, 'dayLow': 401.425, 'dayHigh': 419.98, 'regularMarketPreviousClose': 400.28, 'regularMarketOpen': 401.515, 'regularMarketDayLow': 401.425, 'regularMarketDayHigh': 419.98, 'beta': 2.295, 'trailingPE': 196.40778, 'forwardPE': 103.642075, 'volume': 83089760, 'regularMarketVolume': 83089760, 'averageVolume': 90929208, 'averageVolume10days': 69189120, 'averageDailyVolume10Day': 69189120, 'bid': 404.3, 'ask': 405.61, 'bidSize': 100, 'askSize': 200, 'marketCap': 1301403926528, 'fiftyTwoWeekLow': 138.8, 'fiftyTwoWeekHigh': 488.54, 'priceToSalesTrailing12Months': 13.39582, 'fiftyDayAverage': 396.5106, 'twoHundredDayAverage': 260.8969, 'currency': 'USD', 'enterpriseValue': 1228948242432, 'profitMargins': 0.13075, 'floatShares': 2793105010, 'sharesOutstanding': 3216519936, 'sharesShort': 63254084, 'sharesShortPriorMonth': 80765425, 'sharesShortPreviousMonthDate': 1734048000, 'dateShortInterest': 1736899200, 'sharesPercentSharesOut': 0.0197, 'heldPercentInsiders': 0.1291, 'heldPercentInstitutions': 0.47744998, 'shortRatio': 0.7, 'shortPercentOfFloat': 0.0226, 'impliedSharesOutstanding': 3210060032, 'bookValue': 21.806, 'priceToBook': 18.554527, 'lastFiscalYearEnd': 1703980800, 'nextFiscalYearEnd': 1735603200, 'mostRecentQuarter': 1727654400, 'earningsQuarterlyGrowth': 0.169, 'netIncomeToCommon': 12743000064, 'trailingEps': 2.06, 'forwardEps': 3.24, 'lastSplitFactor': '3:1', 'lastSplitDate': 1661385600, 'enterpriseToRevenue': 12.65, 'enterpriseToEbitda': 92.793, '52WeekChange': 1.2107589, 'SandP52WeekChange': 0.22828305, 'exchange': 'NMS', 'quoteType': 'EQUITY', 'symbol': 'TSLA', 'underlyingSymbol': 'TSLA', 'shortName': 'Tesla, Inc.', 'longName': 'Tesla, Inc.', 'firstTradeDateEpochUtc': 1277818200, 'timeZoneFullName': 'America/New_York', 'timeZoneShortName': 'EST', 'uuid': 'ec367bc4-f92c-397c-ac81-bf7b43cffaf7', 'messageBoardId': 'finmb_27444752', 'gmtOffSetMilliseconds': -18000000, 'currentPrice': 404.6, 'targetHighPrice': 550.0, 'targetLowPrice': 135.0, 'targetMeanPrice': 324.98926, 'targetMedianPrice': 300.0, 'recommendationMean': 2.76087, 'recommendationKey': 'hold', 'numberOfAnalystOpinions': 41, 'totalCash': 33648001024, 'totalCashPerShare': 10.482, 'ebitda': 13244000256, 'totalDebt': 12782999552, 'quickRatio': 1.214, 'currentRatio': 1.844, 'totalRevenue': 97150001152, 'debtToEquity': 18.078, 'revenuePerShare': 30.457, 'returnOnAssets': 0.04759, 'returnOnEquity': 0.20389, 'grossProfits': 17709000704, 'freeCashflow': 676625024, 'operatingCashflow': 14478999552, 'earningsGrowth': 0.17, 'revenueGrowth': 0.078, 'grossMargins': 0.18229, 'ebitdaMargins': 0.13633001, 'operatingMargins': 0.107889995, 'financialCurrency': 'USD', 'trailingPegRatio': 4.9054}\n"
     ]
    }
   ],
   "source": [
    "yf_tsla = yf.Ticker('TSLA')\n",
    "# 주식 기본 정보:\n",
    "print(yf_tsla.info)"
   ]
  },
  {
   "cell_type": "code",
   "execution_count": 39,
   "metadata": {},
   "outputs": [
    {
     "name": "stdout",
     "output_type": "stream",
     "text": [
      "Date\n",
      "2020-08-31 00:00:00-04:00   5.0000\n",
      "2022-08-25 00:00:00-04:00   3.0000\n",
      "Name: Stock Splits, dtype: float64\n"
     ]
    }
   ],
   "source": [
    "# 주식 분할 정보\n",
    "print(yf_tsla.splits)\n"
   ]
  },
  {
   "cell_type": "code",
   "execution_count": 40,
   "metadata": {},
   "outputs": [
    {
     "name": "stdout",
     "output_type": "stream",
     "text": [
      "                              Open     High      Low    Close     Volume  Dividends  Stock Splits\n",
      "Date                                                                                             \n",
      "2025-01-02 00:00:00-05:00 390.1000 392.7300 373.0400 379.2800  109710700     0.0000        0.0000\n",
      "2025-01-03 00:00:00-05:00 381.4800 411.8800 379.4500 410.4400   95423300     0.0000        0.0000\n",
      "2025-01-06 00:00:00-05:00 423.2000 426.4300 401.7000 411.0500   85516500     0.0000        0.0000\n",
      "2025-01-07 00:00:00-05:00 405.8300 414.3300 390.0000 394.3600   75699500     0.0000        0.0000\n",
      "2025-01-08 00:00:00-05:00 392.9500 402.5000 387.4000 394.9400   73038800     0.0000        0.0000\n",
      "2025-01-10 00:00:00-05:00 391.4000 399.2800 377.2900 394.7400   62287300     0.0000        0.0000\n",
      "2025-01-13 00:00:00-05:00 383.2100 403.7900 380.0700 403.3100   67580500     0.0000        0.0000\n",
      "2025-01-14 00:00:00-05:00 414.3400 422.6400 394.5400 396.3600   84565000     0.0000        0.0000\n",
      "2025-01-15 00:00:00-05:00 409.9000 429.8000 405.6600 428.2200   81375500     0.0000        0.0000\n",
      "2025-01-16 00:00:00-05:00 423.4900 424.0000 409.1300 413.8200   68335200     0.0000        0.0000\n",
      "2025-01-17 00:00:00-05:00 421.5000 439.7400 419.7500 426.5000   94991400     0.0000        0.0000\n",
      "2025-01-21 00:00:00-05:00 432.6400 433.2000 406.3100 424.0700   87320900     0.0000        0.0000\n",
      "2025-01-22 00:00:00-05:00 416.8100 428.0000 414.5900 415.1100   60963300     0.0000        0.0000\n",
      "2025-01-23 00:00:00-05:00 416.0600 420.7300 408.9500 412.3800   50690600     0.0000        0.0000\n",
      "2025-01-24 00:00:00-05:00 414.4500 418.8800 405.7800 406.5800   56427100     0.0000        0.0000\n",
      "2025-01-27 00:00:00-05:00 394.8000 406.6900 389.0000 397.1500   58125500     0.0000        0.0000\n",
      "2025-01-28 00:00:00-05:00 396.9100 400.5900 386.5000 398.0900   48910700     0.0000        0.0000\n",
      "2025-01-29 00:00:00-05:00 395.2100 398.5900 384.4800 389.1000   68033600     0.0000        0.0000\n",
      "2025-01-30 00:00:00-05:00 410.7800 412.5000 384.4100 400.2800   98092900     0.0000        0.0000\n",
      "2025-01-31 00:00:00-05:00 401.5300 419.9900 401.3400 404.6000   83283600     0.0000        0.0000\n"
     ]
    }
   ],
   "source": [
    "#주식 역사적 데이터 (주기 데이터) ['1d', '5d', '1mo', '3mo', '6mo', '1y', '2y', '5y', '10y', 'ytd', 'max']\n",
    "print(yf_tsla.history(period=\"ytd\"))"
   ]
  },
  {
   "cell_type": "code",
   "execution_count": 42,
   "metadata": {},
   "outputs": [
    {
     "name": "stdout",
     "output_type": "stream",
     "text": [
      "                              Open     High      Low    Close    Volume  Dividends  Stock Splits\n",
      "Date                                                                                            \n",
      "2025-01-10 00:00:00-05:00 391.4000 399.2800 377.2900 394.7400  62287300     0.0000        0.0000\n",
      "2025-01-13 00:00:00-05:00 383.2100 403.7900 380.0700 403.3100  67580500     0.0000        0.0000\n",
      "2025-01-14 00:00:00-05:00 414.3400 422.6400 394.5400 396.3600  84565000     0.0000        0.0000\n",
      "2025-01-15 00:00:00-05:00 409.9000 429.8000 405.6600 428.2200  81375500     0.0000        0.0000\n",
      "2025-01-16 00:00:00-05:00 423.4900 424.0000 409.1300 413.8200  68335200     0.0000        0.0000\n",
      "2025-01-17 00:00:00-05:00 421.5000 439.7400 419.7500 426.5000  94991400     0.0000        0.0000\n"
     ]
    }
   ],
   "source": [
    "#주식 역사적 데이터 (주기 데이터)\n",
    "print(yf_tsla.history(start='2025-01-09', end='2025-01-19'))"
   ]
  },
  {
   "cell_type": "code",
   "execution_count": 21,
   "metadata": {},
   "outputs": [
    {
     "name": "stdout",
     "output_type": "stream",
     "text": [
      "Series([], Name: Dividends, dtype: float64)\n"
     ]
    }
   ],
   "source": [
    "# 배당금 정보\n",
    "print(yf_tsla.dividends)\n"
   ]
  },
  {
   "cell_type": "code",
   "execution_count": 43,
   "metadata": {},
   "outputs": [
    {
     "name": "stdout",
     "output_type": "stream",
     "text": [
      "                                                         2024-12-31       2023-12-31       2022-12-31       2021-12-31      2020-12-31\n",
      "Tax Effect Of Unusual Items                         -136800000.0000           0.0000   -14080000.0000     2970000.0000             NaN\n",
      "Tax Rate For Calcs                                           0.2000           0.2100           0.0800           0.1100             NaN\n",
      "Normalized EBITDA                                  15392000000.0000 14796000000.0000 17833000000.0000  9598000000.0000             NaN\n",
      "Total Unusual Items                                 -684000000.0000           0.0000  -176000000.0000    27000000.0000             NaN\n",
      "Total Unusual Items Excluding Goodwill              -684000000.0000           0.0000  -176000000.0000    27000000.0000             NaN\n",
      "Net Income From Continuing Operation Net Minori...  7130000000.0000 14999000000.0000 12583000000.0000  5524000000.0000             NaN\n",
      "Reconciled Depreciation                             5368000000.0000  4667000000.0000  3747000000.0000  2911000000.0000             NaN\n",
      "Reconciled Cost Of Revenue                         80240000000.0000 79113000000.0000 60609000000.0000 40217000000.0000             NaN\n",
      "EBITDA                                             14708000000.0000 14796000000.0000 17657000000.0000  9625000000.0000             NaN\n",
      "EBIT                                                9340000000.0000 10129000000.0000 13910000000.0000  6714000000.0000             NaN\n",
      "Net Interest Income                                 1219000000.0000   910000000.0000   106000000.0000  -315000000.0000             NaN\n",
      "Interest Expense                                     350000000.0000   156000000.0000   191000000.0000   371000000.0000             NaN\n",
      "Interest Income                                     1569000000.0000  1066000000.0000   297000000.0000    56000000.0000             NaN\n",
      "Normalized Income                                   7677200000.0000 14999000000.0000 12744920000.0000  5499970000.0000             NaN\n",
      "Net Income From Continuing And Discontinued Ope...  7130000000.0000 14999000000.0000 12583000000.0000  5524000000.0000             NaN\n",
      "Total Expenses                                     89930000000.0000 87882000000.0000 67630000000.0000 47327000000.0000             NaN\n",
      "Rent Expense Supplemental                           1003000000.0000  1268000000.0000  1509000000.0000   978000000.0000             NaN\n",
      "Total Operating Income As Reported                  7076000000.0000  8891000000.0000 13656000000.0000  6523000000.0000             NaN\n",
      "Diluted Average Shares                                          NaN  3482750000.0000  3475000000.0000  3386000000.0000 2880000000.0000\n",
      "Basic Average Shares                                            NaN  3173500000.0000  3130000000.0000  2959000000.0000 2880000000.0000\n",
      "Diluted EPS                                                     NaN           4.3100           3.6200           1.6300          0.2133\n",
      "Basic EPS                                                       NaN           4.7257           4.0200           1.8700          0.2467\n",
      "Diluted NI Availto Com Stockholders                 7130000000.0000 14999000000.0000 12584000000.0000  5533000000.0000             NaN\n",
      "Average Dilution Earnings                                    0.0000           0.0000     1000000.0000     9000000.0000             NaN\n",
      "Net Income Common Stockholders                      7130000000.0000 14999000000.0000 12583000000.0000  5524000000.0000             NaN\n",
      "Otherunder Preferred Stock Dividend                             NaN              NaN              NaN    -5000000.0000   31000000.0000\n",
      "Net Income                                          7130000000.0000 14999000000.0000 12583000000.0000  5524000000.0000             NaN\n",
      "Minority Interests                                   -23000000.0000    25000000.0000    -4000000.0000  -120000000.0000             NaN\n",
      "Net Income Including Noncontrolling Interests       7153000000.0000 14974000000.0000 12587000000.0000  5644000000.0000             NaN\n",
      "Net Income Continuous Operations                    7153000000.0000 14974000000.0000 12587000000.0000  5644000000.0000             NaN\n",
      "Tax Provision                                       1837000000.0000 -5001000000.0000  1132000000.0000   699000000.0000             NaN\n",
      "Pretax Income                                       8990000000.0000  9973000000.0000 13719000000.0000  6343000000.0000             NaN\n",
      "Other Income Expense                                  11000000.0000   172000000.0000  -219000000.0000   162000000.0000             NaN\n",
      "Other Non Operating Income Expenses                  695000000.0000   172000000.0000   -43000000.0000   135000000.0000             NaN\n",
      "Special Income Charges                              -684000000.0000           0.0000  -176000000.0000    27000000.0000             NaN\n",
      "Restructuring And Mergern Acquisition                684000000.0000           0.0000   176000000.0000   -27000000.0000             NaN\n",
      "Net Non Operating Interest Income Expense           1219000000.0000   910000000.0000   106000000.0000  -315000000.0000             NaN\n",
      "Interest Expense Non Operating                       350000000.0000   156000000.0000   191000000.0000   371000000.0000             NaN\n",
      "Interest Income Non Operating                       1569000000.0000  1066000000.0000   297000000.0000    56000000.0000             NaN\n",
      "Operating Income                                    7760000000.0000  8891000000.0000 13832000000.0000  6496000000.0000             NaN\n",
      "Operating Expense                                   9690000000.0000  8769000000.0000  7021000000.0000  7110000000.0000             NaN\n",
      "Research And Development                            4540000000.0000  3969000000.0000  3075000000.0000  2593000000.0000             NaN\n",
      "Selling General And Administration                  5150000000.0000  4800000000.0000  3946000000.0000  4517000000.0000             NaN\n",
      "Gross Profit                                       17450000000.0000 17660000000.0000 20853000000.0000 13606000000.0000             NaN\n",
      "Cost Of Revenue                                    80240000000.0000 79113000000.0000 60609000000.0000 40217000000.0000             NaN\n",
      "Total Revenue                                      97690000000.0000 96773000000.0000 81462000000.0000 53823000000.0000             NaN\n",
      "Operating Revenue                                  97690000000.0000 96773000000.0000 81462000000.0000 53823000000.0000             NaN\n",
      "                                                       2024-12-31       2023-12-31       2022-12-31       2021-12-31 2020-12-31\n",
      "Treasury Shares Number                                        NaN           0.0000              NaN              NaN        NaN\n",
      "Ordinary Shares Number                            3216000000.0000  3185000000.0000  3164000000.0000  3099000000.0000        NaN\n",
      "Share Issued                                      3216000000.0000  3185000000.0000  3164000000.0000  3099000000.0000        NaN\n",
      "Total Debt                                       13623000000.0000  9573000000.0000  5748000000.0000  8873000000.0000        NaN\n",
      "Tangible Book Value                              71443000000.0000 62019000000.0000 44111000000.0000 28472000000.0000        NaN\n",
      "...                                                           ...              ...              ...              ...        ...\n",
      "Cash Cash Equivalents And Short Term Investments 36563000000.0000 29094000000.0000 22185000000.0000 17707000000.0000        NaN\n",
      "Other Short Term Investments                     20424000000.0000 12696000000.0000  5932000000.0000   131000000.0000        NaN\n",
      "Cash And Cash Equivalents                        16139000000.0000 16398000000.0000 16253000000.0000 17576000000.0000        NaN\n",
      "Cash Equivalents                                  1753000000.0000   495000000.0000  2288000000.0000  9548000000.0000        NaN\n",
      "Cash Financial                                   14386000000.0000 15903000000.0000 13965000000.0000  8028000000.0000        NaN\n",
      "\n",
      "[81 rows x 5 columns]\n",
      "                                                      2024-12-31        2023-12-31        2022-12-31        2021-12-31       2020-12-31\n",
      "Free Cash Flow                                   3581000000.0000   4357000000.0000   7552000000.0000   3483000000.0000              NaN\n",
      "Repayment Of Debt                               -2881000000.0000  -1815000000.0000  -3866000000.0000 -14615000000.0000              NaN\n",
      "Issuance Of Debt                                 5744000000.0000   3931000000.0000            0.0000   8883000000.0000              NaN\n",
      "Issuance Of Capital Stock                                    NaN               NaN            0.0000            0.0000 12269000000.0000\n",
      "Capital Expenditure                            -11342000000.0000  -8899000000.0000  -7172000000.0000  -8014000000.0000              NaN\n",
      "Interest Paid Supplemental Data                   277000000.0000    126000000.0000    152000000.0000    266000000.0000              NaN\n",
      "Income Tax Paid Supplemental Data                1331000000.0000   1119000000.0000   1203000000.0000    561000000.0000              NaN\n",
      "End Cash Position                               17037000000.0000  17189000000.0000  16924000000.0000  18144000000.0000              NaN\n",
      "Beginning Cash Position                         17189000000.0000  16924000000.0000  18144000000.0000  19901000000.0000              NaN\n",
      "Effect Of Exchange Rate Changes                  -141000000.0000      4000000.0000   -444000000.0000   -183000000.0000              NaN\n",
      "Changes In Cash                                   -11000000.0000    261000000.0000   -776000000.0000  -1574000000.0000              NaN\n",
      "Financing Cash Flow                              3853000000.0000   2589000000.0000  -3527000000.0000  -5203000000.0000              NaN\n",
      "Cash Flow From Continuing Financing Activities   3853000000.0000   2589000000.0000  -3527000000.0000  -5203000000.0000              NaN\n",
      "Net Other Financing Charges                      -251000000.0000   -227000000.0000   -202000000.0000   -178000000.0000              NaN\n",
      "Proceeds From Stock Option Exercised             1241000000.0000    700000000.0000    541000000.0000    707000000.0000              NaN\n",
      "Net Common Stock Issuance                                    NaN               NaN            0.0000            0.0000 12269000000.0000\n",
      "Common Stock Issuance                                        NaN               NaN            0.0000            0.0000 12269000000.0000\n",
      "Net Issuance Payments Of Debt                    2863000000.0000   2116000000.0000  -3866000000.0000  -5732000000.0000              NaN\n",
      "Net Long Term Debt Issuance                      2863000000.0000   2116000000.0000  -3866000000.0000  -5732000000.0000              NaN\n",
      "Long Term Debt Payments                         -2881000000.0000  -1815000000.0000  -3866000000.0000 -14615000000.0000              NaN\n",
      "Long Term Debt Issuance                          5744000000.0000   3931000000.0000            0.0000   8883000000.0000              NaN\n",
      "Investing Cash Flow                            -18787000000.0000 -15584000000.0000 -11973000000.0000  -7868000000.0000              NaN\n",
      "Cash Flow From Continuing Investing Activities -18787000000.0000 -15584000000.0000 -11973000000.0000  -7868000000.0000              NaN\n",
      "Net Other Investing Changes                                  NaN               NaN     76000000.0000      6000000.0000   123000000.0000\n",
      "Net Investment Purchase And Sale                -7445000000.0000  -6621000000.0000  -5813000000.0000   -132000000.0000              NaN\n",
      "Sale Of Investment                              28510000000.0000  12491000000.0000     22000000.0000            0.0000              NaN\n",
      "Purchase Of Investment                         -35955000000.0000 -19112000000.0000  -5835000000.0000   -132000000.0000              NaN\n",
      "Net Business Purchase And Sale                            0.0000    -64000000.0000            0.0000            0.0000              NaN\n",
      "Sale Of Business                                             NaN               NaN            0.0000            0.0000              NaN\n",
      "Purchase Of Business                                      0.0000    -64000000.0000            0.0000            0.0000              NaN\n",
      "Net Intangibles Purchase And Sale                         0.0000            0.0000    927000000.0000  -1228000000.0000              NaN\n",
      "Sale Of Intangibles                                       0.0000            0.0000    936000000.0000    272000000.0000              NaN\n",
      "Purchase Of Intangibles                                   0.0000            0.0000     -9000000.0000  -1500000000.0000              NaN\n",
      "Net PPE Purchase And Sale                      -11342000000.0000  -8899000000.0000  -7163000000.0000  -6514000000.0000              NaN\n",
      "Purchase Of PPE                                -11342000000.0000  -8899000000.0000  -7163000000.0000  -6514000000.0000              NaN\n",
      "Operating Cash Flow                             14923000000.0000  13256000000.0000  14724000000.0000  11497000000.0000              NaN\n",
      "Cash Flow From Continuing Operating Activities  14923000000.0000  13256000000.0000  14724000000.0000  11497000000.0000              NaN\n",
      "Change In Working Capital                          81000000.0000  -2248000000.0000  -3712000000.0000    667000000.0000              NaN\n",
      "Change In Other Working Capital                   502000000.0000   1532000000.0000   1131000000.0000    793000000.0000              NaN\n",
      "Change In Other Current Liabilities                          NaN               NaN   1904000000.0000    476000000.0000   495000000.0000\n",
      "Change In Other Current Assets                   -590000000.0000  -1952000000.0000  -1570000000.0000  -2114000000.0000              NaN\n",
      "Change In Payables And Accrued Expense           3588000000.0000   2605000000.0000   8029000000.0000   5367000000.0000              NaN\n",
      "Change In Payable                                3588000000.0000   2605000000.0000   8029000000.0000   5367000000.0000              NaN\n",
      "Change In Account Payable                        3588000000.0000   2605000000.0000   8029000000.0000   5367000000.0000              NaN\n",
      "Change In Prepaid Assets                        -3273000000.0000  -2652000000.0000  -3713000000.0000  -1540000000.0000              NaN\n",
      "Change In Inventory                               937000000.0000  -1195000000.0000  -6465000000.0000  -1709000000.0000              NaN\n",
      "Change In Receivables                           -1083000000.0000   -586000000.0000  -1124000000.0000   -130000000.0000              NaN\n",
      "Changes In Account Receivables                  -1083000000.0000   -586000000.0000  -1124000000.0000   -130000000.0000              NaN\n",
      "Other Non Cash Items                              172000000.0000     81000000.0000    340000000.0000    245000000.0000              NaN\n",
      "Stock Based Compensation                         1999000000.0000   1812000000.0000   1560000000.0000   2121000000.0000              NaN\n",
      "Asset Impairment Charge                           335000000.0000    463000000.0000    177000000.0000    140000000.0000              NaN\n",
      "Deferred Tax                                      477000000.0000  -6349000000.0000   -196000000.0000   -149000000.0000              NaN\n",
      "Deferred Income Tax                               477000000.0000  -6349000000.0000   -196000000.0000   -149000000.0000              NaN\n",
      "Depreciation Amortization Depletion              5368000000.0000   4667000000.0000   3747000000.0000   2911000000.0000              NaN\n",
      "Depreciation And Amortization                    5368000000.0000   4667000000.0000   3747000000.0000   2911000000.0000              NaN\n",
      "Depreciation                                     5368000000.0000   4667000000.0000   3747000000.0000   2911000000.0000              NaN\n",
      "Operating Gains Losses                           -662000000.0000   -144000000.0000    221000000.0000    -82000000.0000              NaN\n",
      "Net Foreign Currency Exchange Gain Loss           -73000000.0000   -144000000.0000     81000000.0000    -55000000.0000              NaN\n",
      "Gain Loss On Sale Of PPE                         -589000000.0000            0.0000    140000000.0000    -27000000.0000              NaN\n",
      "Net Income From Continuing Operations            7153000000.0000  14974000000.0000  12587000000.0000   5644000000.0000              NaN\n"
     ]
    }
   ],
   "source": [
    "# 재무제표 (Income Statement, Balance Sheet, Cashflow)\n",
    "\n",
    "print(yf_tsla.financials)       # 손익계산서\n"
   ]
  },
  {
   "cell_type": "code",
   "execution_count": 44,
   "metadata": {},
   "outputs": [
    {
     "name": "stdout",
     "output_type": "stream",
     "text": [
      "                                                       2024-12-31       2023-12-31       2022-12-31       2021-12-31 2020-12-31\n",
      "Treasury Shares Number                                        NaN           0.0000              NaN              NaN        NaN\n",
      "Ordinary Shares Number                            3216000000.0000  3185000000.0000  3164000000.0000  3099000000.0000        NaN\n",
      "Share Issued                                      3216000000.0000  3185000000.0000  3164000000.0000  3099000000.0000        NaN\n",
      "Total Debt                                       13623000000.0000  9573000000.0000  5748000000.0000  8873000000.0000        NaN\n",
      "Tangible Book Value                              71443000000.0000 62019000000.0000 44111000000.0000 28472000000.0000        NaN\n",
      "...                                                           ...              ...              ...              ...        ...\n",
      "Cash Cash Equivalents And Short Term Investments 36563000000.0000 29094000000.0000 22185000000.0000 17707000000.0000        NaN\n",
      "Other Short Term Investments                     20424000000.0000 12696000000.0000  5932000000.0000   131000000.0000        NaN\n",
      "Cash And Cash Equivalents                        16139000000.0000 16398000000.0000 16253000000.0000 17576000000.0000        NaN\n",
      "Cash Equivalents                                  1753000000.0000   495000000.0000  2288000000.0000  9548000000.0000        NaN\n",
      "Cash Financial                                   14386000000.0000 15903000000.0000 13965000000.0000  8028000000.0000        NaN\n",
      "\n",
      "[81 rows x 5 columns]\n"
     ]
    }
   ],
   "source": [
    "print(yf_tsla.balance_sheet)    # 대차대조표\n"
   ]
  },
  {
   "cell_type": "code",
   "execution_count": 45,
   "metadata": {},
   "outputs": [
    {
     "name": "stdout",
     "output_type": "stream",
     "text": [
      "                                                      2024-12-31        2023-12-31        2022-12-31        2021-12-31       2020-12-31\n",
      "Free Cash Flow                                   3581000000.0000   4357000000.0000   7552000000.0000   3483000000.0000              NaN\n",
      "Repayment Of Debt                               -2881000000.0000  -1815000000.0000  -3866000000.0000 -14615000000.0000              NaN\n",
      "Issuance Of Debt                                 5744000000.0000   3931000000.0000            0.0000   8883000000.0000              NaN\n",
      "Issuance Of Capital Stock                                    NaN               NaN            0.0000            0.0000 12269000000.0000\n",
      "Capital Expenditure                            -11342000000.0000  -8899000000.0000  -7172000000.0000  -8014000000.0000              NaN\n",
      "Interest Paid Supplemental Data                   277000000.0000    126000000.0000    152000000.0000    266000000.0000              NaN\n",
      "Income Tax Paid Supplemental Data                1331000000.0000   1119000000.0000   1203000000.0000    561000000.0000              NaN\n",
      "End Cash Position                               17037000000.0000  17189000000.0000  16924000000.0000  18144000000.0000              NaN\n",
      "Beginning Cash Position                         17189000000.0000  16924000000.0000  18144000000.0000  19901000000.0000              NaN\n",
      "Effect Of Exchange Rate Changes                  -141000000.0000      4000000.0000   -444000000.0000   -183000000.0000              NaN\n",
      "Changes In Cash                                   -11000000.0000    261000000.0000   -776000000.0000  -1574000000.0000              NaN\n",
      "Financing Cash Flow                              3853000000.0000   2589000000.0000  -3527000000.0000  -5203000000.0000              NaN\n",
      "Cash Flow From Continuing Financing Activities   3853000000.0000   2589000000.0000  -3527000000.0000  -5203000000.0000              NaN\n",
      "Net Other Financing Charges                      -251000000.0000   -227000000.0000   -202000000.0000   -178000000.0000              NaN\n",
      "Proceeds From Stock Option Exercised             1241000000.0000    700000000.0000    541000000.0000    707000000.0000              NaN\n",
      "Net Common Stock Issuance                                    NaN               NaN            0.0000            0.0000 12269000000.0000\n",
      "Common Stock Issuance                                        NaN               NaN            0.0000            0.0000 12269000000.0000\n",
      "Net Issuance Payments Of Debt                    2863000000.0000   2116000000.0000  -3866000000.0000  -5732000000.0000              NaN\n",
      "Net Long Term Debt Issuance                      2863000000.0000   2116000000.0000  -3866000000.0000  -5732000000.0000              NaN\n",
      "Long Term Debt Payments                         -2881000000.0000  -1815000000.0000  -3866000000.0000 -14615000000.0000              NaN\n",
      "Long Term Debt Issuance                          5744000000.0000   3931000000.0000            0.0000   8883000000.0000              NaN\n",
      "Investing Cash Flow                            -18787000000.0000 -15584000000.0000 -11973000000.0000  -7868000000.0000              NaN\n",
      "Cash Flow From Continuing Investing Activities -18787000000.0000 -15584000000.0000 -11973000000.0000  -7868000000.0000              NaN\n",
      "Net Other Investing Changes                                  NaN               NaN     76000000.0000      6000000.0000   123000000.0000\n",
      "Net Investment Purchase And Sale                -7445000000.0000  -6621000000.0000  -5813000000.0000   -132000000.0000              NaN\n",
      "Sale Of Investment                              28510000000.0000  12491000000.0000     22000000.0000            0.0000              NaN\n",
      "Purchase Of Investment                         -35955000000.0000 -19112000000.0000  -5835000000.0000   -132000000.0000              NaN\n",
      "Net Business Purchase And Sale                            0.0000    -64000000.0000            0.0000            0.0000              NaN\n",
      "Sale Of Business                                             NaN               NaN            0.0000            0.0000              NaN\n",
      "Purchase Of Business                                      0.0000    -64000000.0000            0.0000            0.0000              NaN\n",
      "Net Intangibles Purchase And Sale                         0.0000            0.0000    927000000.0000  -1228000000.0000              NaN\n",
      "Sale Of Intangibles                                       0.0000            0.0000    936000000.0000    272000000.0000              NaN\n",
      "Purchase Of Intangibles                                   0.0000            0.0000     -9000000.0000  -1500000000.0000              NaN\n",
      "Net PPE Purchase And Sale                      -11342000000.0000  -8899000000.0000  -7163000000.0000  -6514000000.0000              NaN\n",
      "Purchase Of PPE                                -11342000000.0000  -8899000000.0000  -7163000000.0000  -6514000000.0000              NaN\n",
      "Operating Cash Flow                             14923000000.0000  13256000000.0000  14724000000.0000  11497000000.0000              NaN\n",
      "Cash Flow From Continuing Operating Activities  14923000000.0000  13256000000.0000  14724000000.0000  11497000000.0000              NaN\n",
      "Change In Working Capital                          81000000.0000  -2248000000.0000  -3712000000.0000    667000000.0000              NaN\n",
      "Change In Other Working Capital                   502000000.0000   1532000000.0000   1131000000.0000    793000000.0000              NaN\n",
      "Change In Other Current Liabilities                          NaN               NaN   1904000000.0000    476000000.0000   495000000.0000\n",
      "Change In Other Current Assets                   -590000000.0000  -1952000000.0000  -1570000000.0000  -2114000000.0000              NaN\n",
      "Change In Payables And Accrued Expense           3588000000.0000   2605000000.0000   8029000000.0000   5367000000.0000              NaN\n",
      "Change In Payable                                3588000000.0000   2605000000.0000   8029000000.0000   5367000000.0000              NaN\n",
      "Change In Account Payable                        3588000000.0000   2605000000.0000   8029000000.0000   5367000000.0000              NaN\n",
      "Change In Prepaid Assets                        -3273000000.0000  -2652000000.0000  -3713000000.0000  -1540000000.0000              NaN\n",
      "Change In Inventory                               937000000.0000  -1195000000.0000  -6465000000.0000  -1709000000.0000              NaN\n",
      "Change In Receivables                           -1083000000.0000   -586000000.0000  -1124000000.0000   -130000000.0000              NaN\n",
      "Changes In Account Receivables                  -1083000000.0000   -586000000.0000  -1124000000.0000   -130000000.0000              NaN\n",
      "Other Non Cash Items                              172000000.0000     81000000.0000    340000000.0000    245000000.0000              NaN\n",
      "Stock Based Compensation                         1999000000.0000   1812000000.0000   1560000000.0000   2121000000.0000              NaN\n",
      "Asset Impairment Charge                           335000000.0000    463000000.0000    177000000.0000    140000000.0000              NaN\n",
      "Deferred Tax                                      477000000.0000  -6349000000.0000   -196000000.0000   -149000000.0000              NaN\n",
      "Deferred Income Tax                               477000000.0000  -6349000000.0000   -196000000.0000   -149000000.0000              NaN\n",
      "Depreciation Amortization Depletion              5368000000.0000   4667000000.0000   3747000000.0000   2911000000.0000              NaN\n",
      "Depreciation And Amortization                    5368000000.0000   4667000000.0000   3747000000.0000   2911000000.0000              NaN\n",
      "Depreciation                                     5368000000.0000   4667000000.0000   3747000000.0000   2911000000.0000              NaN\n",
      "Operating Gains Losses                           -662000000.0000   -144000000.0000    221000000.0000    -82000000.0000              NaN\n",
      "Net Foreign Currency Exchange Gain Loss           -73000000.0000   -144000000.0000     81000000.0000    -55000000.0000              NaN\n",
      "Gain Loss On Sale Of PPE                         -589000000.0000            0.0000    140000000.0000    -27000000.0000              NaN\n",
      "Net Income From Continuing Operations            7153000000.0000  14974000000.0000  12587000000.0000   5644000000.0000              NaN\n"
     ]
    }
   ],
   "source": [
    "print(yf_tsla.cashflow)         # 현금흐름표"
   ]
  },
  {
   "cell_type": "code",
   "execution_count": 46,
   "metadata": {},
   "outputs": [
    {
     "ename": "AttributeError",
     "evalue": "'Ticker' object has no attribute 'analysis'",
     "output_type": "error",
     "traceback": [
      "\u001b[0;31m---------------------------------------------------------------------------\u001b[0m",
      "\u001b[0;31mAttributeError\u001b[0m                            Traceback (most recent call last)",
      "Cell \u001b[0;32mIn[46], line 2\u001b[0m\n\u001b[1;32m      1\u001b[0m \u001b[38;5;66;03m# 주식 분석 데이터\u001b[39;00m\n\u001b[0;32m----> 2\u001b[0m \u001b[38;5;28mprint\u001b[39m(yf_tsla\u001b[38;5;241m.\u001b[39manalysis)\n",
      "\u001b[0;31mAttributeError\u001b[0m: 'Ticker' object has no attribute 'analysis'"
     ]
    }
   ],
   "source": [
    "# 주식 분석 데이터\n",
    "print(yf_tsla.analysis)\n"
   ]
  },
  {
   "cell_type": "code",
   "execution_count": 47,
   "metadata": {},
   "outputs": [
    {
     "name": "stdout",
     "output_type": "stream",
     "text": [
      "Breakdown                        Value\n",
      "insidersPercentHeld             0.1291\n",
      "institutionsPercentHeld         0.4774\n",
      "institutionsFloatPercentHeld    0.5482\n",
      "institutionsCount            4218.0000\n"
     ]
    }
   ],
   "source": [
    "# 주식 주주 구성\n",
    "print(yf_tsla.major_holders)\n"
   ]
  }
 ],
 "metadata": {
  "kernelspec": {
   "display_name": "zena",
   "language": "python",
   "name": "python3"
  },
  "language_info": {
   "codemirror_mode": {
    "name": "ipython",
    "version": 3
   },
   "file_extension": ".py",
   "mimetype": "text/x-python",
   "name": "python",
   "nbconvert_exporter": "python",
   "pygments_lexer": "ipython3",
   "version": "3.12.2"
  }
 },
 "nbformat": 4,
 "nbformat_minor": 2
}
