{
 "cells": [
  {
   "cell_type": "code",
   "execution_count": 1,
   "metadata": {},
   "outputs": [
    {
     "data": {
      "text/plain": [
       "<module 'strategies.momentum' from '/Users/rion5/Zena/py-quant/strategies/momentum.py'>"
      ]
     },
     "execution_count": 1,
     "metadata": {},
     "output_type": "execute_result"
    }
   ],
   "source": [
    "import pandas as pd\n",
    "import data.data_fetcher as fetch\n",
    "import strategies.momentum as mo\n",
    "import importlib\n",
    "\n",
    "importlib.reload(fetch)\n",
    "importlib.reload(mo)"
   ]
  },
  {
   "cell_type": "code",
   "execution_count": 2,
   "metadata": {},
   "outputs": [],
   "source": [
    "start_date,end_date = '2025-01-01','2025-01-27'\n",
    "min_volume = 8000000\n",
    "min_price = 100\n",
    "max_price = 1000\n",
    "min_sortino = 0.2\n",
    "min_diff_ratio = 0.2\n",
    "top_n = 20"
   ]
  },
  {
   "cell_type": "code",
   "execution_count": 3,
   "metadata": {},
   "outputs": [
    {
     "name": "stdout",
     "output_type": "stream",
     "text": [
      "('AAPL', 'AMD', 'AMZN', 'AVGO', 'GOOG', 'GOOGL', 'META', 'MRVL', 'MSFT', 'MSTR', 'NVDA', 'QQQ', 'TSLA', 'TSM', 'XOM')\n"
     ]
    }
   ],
   "source": [
    "m_symbols = fetch.fetch_momentum_symbols_from_db(start_date, end_date, min_volume, min_price, max_price, top_n)\n",
    "\n",
    "print(m_symbols)"
   ]
  },
  {
   "cell_type": "code",
   "execution_count": 4,
   "metadata": {},
   "outputs": [
    {
     "name": "stdout",
     "output_type": "stream",
     "text": [
      "   Ticker  Sortino Ratio  Price Increase Ratio  Combined Score  \\\n",
      "0    META       0.468483              0.101195        0.211381   \n",
      "1    MSTR       0.254182              0.159695        0.188041   \n",
      "2    AMZN       0.361345              0.069022        0.156719   \n",
      "3     XOM       0.297914             -0.019142        0.075975   \n",
      "4    MSFT       0.139746              0.038177        0.068647   \n",
      "5    GOOG       0.034190              0.016472        0.021787   \n",
      "6   GOOGL       0.022707              0.012564        0.015607   \n",
      "7    TSLA      -0.064572              0.047116        0.013609   \n",
      "8     QQQ      -0.005170              0.007800        0.003909   \n",
      "9     AMD      -0.116865             -0.046589       -0.067672   \n",
      "10    TSM      -0.045776             -0.090733       -0.077246   \n",
      "11   MRVL      -0.056054             -0.116502       -0.098368   \n",
      "12   AVGO      -0.121761             -0.128675       -0.126601   \n",
      "13   NVDA      -0.125348             -0.143807       -0.138270   \n",
      "\n",
      "        Price Range  Average Volume  \n",
      "0   594.25 - 659.88    1.379122e+07  \n",
      "1   300.01 - 389.10    2.034044e+07  \n",
      "2   217.76 - 235.42    3.129167e+07  \n",
      "3   106.54 - 112.32    1.402052e+07  \n",
      "4   415.67 - 446.71    1.960417e+07  \n",
      "5   190.63 - 201.90    1.569662e+07  \n",
      "6   189.43 - 200.21    2.441976e+07  \n",
      "7   379.28 - 428.22    7.349160e+07  \n",
      "8   505.08 - 532.64    3.259444e+07  \n",
      "9   115.01 - 129.55    3.867621e+07  \n",
      "10  192.31 - 224.62    1.866431e+07  \n",
      "11  100.33 - 126.06    1.231606e+07  \n",
      "12  202.13 - 244.70    2.887009e+07  \n",
      "13  118.42 - 149.43    2.572709e+08  \n"
     ]
    }
   ],
   "source": [
    "result = mo.filter_and_rank_stocks(m_symbols, start_date, end_date, min_volume, min_price, max_price, -0.2, 0.2, top_n)\n",
    "print(result)"
   ]
  }
 ],
 "metadata": {
  "kernelspec": {
   "display_name": "Python (zena)",
   "language": "python",
   "name": "zena"
  },
  "language_info": {
   "codemirror_mode": {
    "name": "ipython",
    "version": 3
   },
   "file_extension": ".py",
   "mimetype": "text/x-python",
   "name": "python",
   "nbconvert_exporter": "python",
   "pygments_lexer": "ipython3",
   "version": "3.12.8"
  }
 },
 "nbformat": 4,
 "nbformat_minor": 2
}
