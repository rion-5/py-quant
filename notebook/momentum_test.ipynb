{
 "cells": [
  {
   "cell_type": "code",
   "execution_count": 1,
   "metadata": {},
   "outputs": [
    {
     "data": {
      "text/plain": [
       "<module 'strategies.momentum' from '/Users/rion5/Zena/py-quant/strategies/momentum.py'>"
      ]
     },
     "execution_count": 1,
     "metadata": {},
     "output_type": "execute_result"
    }
   ],
   "source": [
    "import pandas as pd\n",
    "import data.data_fetcher as fetch\n",
    "import strategies.momentum as mo\n",
    "import importlib\n",
    "\n",
    "importlib.reload(fetch)\n",
    "importlib.reload(mo)"
   ]
  },
  {
   "cell_type": "code",
   "execution_count": 2,
   "metadata": {},
   "outputs": [],
   "source": [
    "start_date,end_date = '2025-01-01','2025-02-02'\n",
    "min_volume = 5000000\n",
    "min_price = 100\n",
    "max_price = 1000\n",
    "min_sortino = 0.2\n",
    "min_diff_ratio = 0.2\n",
    "top_n = 20"
   ]
  },
  {
   "cell_type": "code",
   "execution_count": 3,
   "metadata": {},
   "outputs": [
    {
     "name": "stdout",
     "output_type": "stream",
     "text": [
      "('AAPL', 'AMD', 'AMZN', 'AVGO', 'BA', 'COIN', 'GOOG', 'GOOGL', 'JNJ', 'JPM', 'META', 'MRVL', 'MSFT', 'MSTR', 'NVDA', 'ORCL', 'QCOM', 'QQQ', 'TSLA', 'TSM')\n"
     ]
    }
   ],
   "source": [
    "m_symbols = fetch.fetch_momentum_symbols_from_db(start_date, end_date, min_volume, min_price, max_price, top_n)\n",
    "\n",
    "print(m_symbols)"
   ]
  },
  {
   "cell_type": "code",
   "execution_count": 4,
   "metadata": {},
   "outputs": [
    {
     "name": "stdout",
     "output_type": "stream",
     "text": [
      "   Ticker  Sortino Ratio  Price Increase Ratio  Combined Score      Price Range  Last Close  Average Volume\n",
      "0     JPM         1.0292                0.1044          0.3819  239.87 - 268.23    267.3000   10558205.2632\n",
      "1    META         0.4690                0.1398          0.2386  594.25 - 689.18    689.1800   16064847.3684\n",
      "2    QCOM         0.5080                0.0957          0.2194  156.98 - 174.36    172.9300    7622368.4211\n",
      "3    AMZN         0.3543                0.0602          0.1484  217.76 - 238.15    237.6800   32558968.4211\n",
      "4    GOOG         0.2563                0.0646          0.1221  191.05 - 205.60    205.6000   16152784.2105\n",
      "5   GOOGL         0.2430                0.0638          0.1175  189.66 - 204.02    204.0200   25261252.6316\n",
      "6    COIN         0.1690                0.0764          0.1042  251.20 - 301.30    291.3300    8362747.3684\n",
      "7     JNJ         0.2093                0.0552          0.1014  142.06 - 152.89    152.1500    9830336.8421\n",
      "8      BA         0.1165                0.0390          0.0622  166.20 - 179.53    176.5200    8566689.4737\n",
      "9    MSTR         0.1873               -0.0143          0.0461  327.91 - 396.50    334.7900   19218826.3158\n",
      "10   TSLA         0.1782               -0.0142          0.0435  389.10 - 428.22    404.6000   73719010.5263\n",
      "11    QQQ         0.1014                0.0072          0.0354  505.08 - 532.64    522.2900   33717000.0000\n",
      "12   ORCL         0.0453                0.0250          0.0311  153.92 - 186.47    170.0600   15430978.9474\n",
      "13    TSM         0.0525                0.0034          0.0181  192.31 - 224.62    209.3200   20778173.6842\n",
      "14   MSFT        -0.0100               -0.0196         -0.0167  414.99 - 447.20    415.0600   23452878.9474\n",
      "15   MRVL         0.0126               -0.0445         -0.0274  100.33 - 126.06    112.8600   13560936.8421\n",
      "16   AVGO        -0.0192               -0.0485         -0.0397  202.13 - 244.70    221.2700   31916247.3684\n",
      "17   AAPL        -0.0856               -0.0302         -0.0468  222.64 - 245.00    236.0000   60233457.8947\n",
      "18    AMD        -0.0547               -0.0751         -0.0690  114.17 - 129.55    115.9500   39201694.7368\n",
      "19   NVDA        -0.0956               -0.1689         -0.1469  118.42 - 149.43    120.0700  302639663.1579\n"
     ]
    }
   ],
   "source": [
    "result = mo.filter_and_rank_stocks(m_symbols, start_date, end_date, min_volume, min_price, max_price, -0.2, 0.2, top_n)\n",
    "pd.set_option('display.float_format', '{:.4f}'.format)\n",
    "pd.set_option('display.max_columns', None)  # 모든 컬럼을 한 줄에 출력\n",
    "pd.set_option('display.width', 1000)  # 출력 너비 조정\n",
    "print(result)"
   ]
  }
 ],
 "metadata": {
  "kernelspec": {
   "display_name": "Python (zena)",
   "language": "python",
   "name": "zena"
  },
  "language_info": {
   "codemirror_mode": {
    "name": "ipython",
    "version": 3
   },
   "file_extension": ".py",
   "mimetype": "text/x-python",
   "name": "python",
   "nbconvert_exporter": "python",
   "pygments_lexer": "ipython3",
   "version": "3.12.2"
  }
 },
 "nbformat": 4,
 "nbformat_minor": 2
}
