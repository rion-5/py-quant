{
 "cells": [
  {
   "cell_type": "code",
   "execution_count": 6,
   "metadata": {},
   "outputs": [
    {
     "data": {
      "text/plain": [
       "<module 'strategies.momentum' from '/Users/rion5/Zena/py-quant/strategies/momentum.py'>"
      ]
     },
     "execution_count": 6,
     "metadata": {},
     "output_type": "execute_result"
    }
   ],
   "source": [
    "import pandas as pd\n",
    "import data.data_fetcher as fetch\n",
    "import strategies.momentum as mo\n",
    "import importlib\n",
    "\n",
    "importlib.reload(fetch)\n",
    "importlib.reload(mo)"
   ]
  },
  {
   "cell_type": "code",
   "execution_count": 7,
   "metadata": {},
   "outputs": [],
   "source": [
    "start_date,end_date = '2025-01-01','2025-01-31'\n",
    "min_volume = 5000000\n",
    "min_price = 100\n",
    "max_price = 1000\n",
    "min_sortino = 0.2\n",
    "min_diff_ratio = 0.2\n",
    "top_n = 20"
   ]
  },
  {
   "cell_type": "code",
   "execution_count": 8,
   "metadata": {},
   "outputs": [
    {
     "name": "stdout",
     "output_type": "stream",
     "text": [
      "('AAPL', 'AMD', 'AMZN', 'AVGO', 'BA', 'COIN', 'GOOG', 'GOOGL', 'JNJ', 'JPM', 'META', 'MRVL', 'MSFT', 'MSTR', 'NVDA', 'ORCL', 'QCOM', 'QQQ', 'TSLA', 'TSM')\n"
     ]
    }
   ],
   "source": [
    "m_symbols = fetch.fetch_momentum_symbols_from_db(start_date, end_date, min_volume, min_price, max_price, top_n)\n",
    "\n",
    "print(m_symbols)"
   ]
  },
  {
   "cell_type": "code",
   "execution_count": 9,
   "metadata": {},
   "outputs": [
    {
     "name": "stdout",
     "output_type": "stream",
     "text": [
      "   Ticker  Sortino Ratio  Price Increase Ratio  Combined Score      Price Range  Last Close  Average Volume\n",
      "0     JPM         1.0636                0.1083          0.3949  239.87 - 268.23    268.2300   10745116.6667\n",
      "1    META         0.4841                0.1362          0.2406  594.25 - 687.00    687.0000   15884900.0000\n",
      "2    QCOM         0.5104                0.0893          0.2156  156.98 - 174.36    171.9300    7612472.2222\n",
      "3    COIN         0.2129                0.1132          0.1432  251.20 - 301.30    301.3000    8465427.7778\n",
      "4    AMZN         0.3121                0.0466          0.1262  217.76 - 238.15    234.6400   32361677.7778\n",
      "5     JNJ         0.2232                0.0602          0.1091  142.06 - 152.89    152.8700    9906588.8889\n",
      "6    GOOG         0.2200                0.0492          0.1004  191.05 - 202.63    202.6300   16102366.6667\n",
      "7      BA         0.2010                0.0567          0.1000  166.20 - 179.53    179.5300    8703505.5556\n",
      "8   GOOGL         0.2044                0.0473          0.0945  189.66 - 200.87    200.8700   24886816.6667\n",
      "9    MSTR         0.2113                0.0013          0.0643  327.91 - 396.50    340.0900   19423577.7778\n",
      "10    QQQ         0.1068                0.0086          0.0381  505.08 - 532.64    523.0500   33437100.0000\n",
      "11   ORCL         0.0466                0.0269          0.0328  153.92 - 186.47    170.3800   15804666.6667\n",
      "12   TSLA         0.1609               -0.0248          0.0309  389.10 - 428.22    400.2800   73187644.4444\n",
      "13    TSM         0.0497               -0.0022          0.0134  192.31 - 224.62    208.1500   21057688.8889\n",
      "14   MSFT        -0.0110               -0.0197         -0.0171  414.99 - 447.20    414.9900   22857933.3333\n",
      "15   AAPL        -0.0670               -0.0237         -0.0367  222.64 - 245.00    237.5900   57970883.3333\n",
      "16    AMD        -0.0132               -0.0519         -0.0403  114.17 - 129.55    118.8600   39131600.0000\n",
      "17   MRVL        -0.0012               -0.0660         -0.0465  100.33 - 126.06    110.3300   13470022.2222\n",
      "18   AVGO        -0.0401               -0.0726         -0.0629  202.13 - 244.70    215.6600   31405777.7778\n",
      "19   NVDA        -0.0656               -0.1372         -0.1157  118.42 - 149.43    124.6500  297888472.2222\n"
     ]
    }
   ],
   "source": [
    "result = mo.filter_and_rank_stocks(m_symbols, start_date, end_date, min_volume, min_price, max_price, -0.2, 0.2, top_n)\n",
    "pd.set_option('display.float_format', '{:.4f}'.format)\n",
    "pd.set_option('display.max_columns', None)  # 모든 컬럼을 한 줄에 출력\n",
    "pd.set_option('display.width', 1000)  # 출력 너비 조정\n",
    "print(result)"
   ]
  }
 ],
 "metadata": {
  "kernelspec": {
   "display_name": "zena",
   "language": "python",
   "name": "python3"
  },
  "language_info": {
   "codemirror_mode": {
    "name": "ipython",
    "version": 3
   },
   "file_extension": ".py",
   "mimetype": "text/x-python",
   "name": "python",
   "nbconvert_exporter": "python",
   "pygments_lexer": "ipython3",
   "version": "3.12.2"
  }
 },
 "nbformat": 4,
 "nbformat_minor": 2
}
